{
 "cells": [
  {
   "cell_type": "code",
   "execution_count": 1,
   "id": "f9e4170e",
   "metadata": {},
   "outputs": [],
   "source": [
    "import pandas as pd\n",
    "from pathlib import Path\n",
    "import matplotlib.pyplot as plt\n",
    "from plotly import express as px\n",
    "from sklearn.model_selection import GridSearchCV, train_test_split\n",
    "from sklearn.tree import DecisionTreeClassifier\n",
    "from sklearn import datasets, metrics, neighbors, preprocessing, tree\n",
    "from imblearn.combine import SMOTEENN\n",
    "from imblearn.over_sampling import SMOTE, RandomOverSampler\n",
    "from sklearn.metrics import (accuracy_score, f1_score, precision_score,make_scorer,\n",
    "                             r2_score, recall_score, confusion_matrix)\n",
    "from sklearn.model_selection import cross_validate\n",
    "from collections import Counter\n",
    "from sklearn.preprocessing import OrdinalEncoder\n",
    "from sklearn.model_selection import GridSearchCV\n",
    "from sklearn import model_selection\n",
    "from sklearn.impute import SimpleImputer\n",
    "import numpy as np"
   ]
  },
  {
   "cell_type": "code",
   "execution_count": 2,
   "id": "24ac14e9",
   "metadata": {},
   "outputs": [],
   "source": [
    "class Paths:\n",
    "    data_path=Path(r'../data').resolve().absolute()\n",
    "    data_raw=data_path.joinpath(r'01_raw')\n",
    "    path_train=data_raw.joinpath(r'train.csv')\n",
    "    path_test = data_raw.joinpath(r'test.csv')"
   ]
  },
  {
   "cell_type": "code",
   "execution_count": 3,
   "id": "fdc45a4c",
   "metadata": {},
   "outputs": [],
   "source": [
    "df_test = pd.read_csv(Paths.path_test,decimal='.')\n",
    "df_train = pd.read_csv(Paths.path_train , decimal='.')"
   ]
  },
  {
   "cell_type": "code",
   "execution_count": 4,
   "id": "b50d2ff8",
   "metadata": {},
   "outputs": [
    {
     "data": {
      "text/plain": [
       "PassengerId       0\n",
       "HomePlanet       87\n",
       "CryoSleep        93\n",
       "Cabin           100\n",
       "Destination      92\n",
       "Age              91\n",
       "VIP              93\n",
       "RoomService      82\n",
       "FoodCourt       106\n",
       "ShoppingMall     98\n",
       "Spa             101\n",
       "VRDeck           80\n",
       "Name             94\n",
       "dtype: int64"
      ]
     },
     "execution_count": 4,
     "metadata": {},
     "output_type": "execute_result"
    }
   ],
   "source": [
    "df_test.isnull().sum()"
   ]
  },
  {
   "cell_type": "code",
   "execution_count": 5,
   "id": "004f9234",
   "metadata": {},
   "outputs": [
    {
     "data": {
      "text/plain": [
       "PassengerId       0\n",
       "HomePlanet      201\n",
       "CryoSleep       217\n",
       "Cabin           199\n",
       "Destination     182\n",
       "Age             179\n",
       "VIP             203\n",
       "RoomService     181\n",
       "FoodCourt       183\n",
       "ShoppingMall    208\n",
       "Spa             183\n",
       "VRDeck          188\n",
       "Name            200\n",
       "Transported       0\n",
       "dtype: int64"
      ]
     },
     "execution_count": 5,
     "metadata": {},
     "output_type": "execute_result"
    }
   ],
   "source": [
    "df_train.isnull().sum()"
   ]
  },
  {
   "cell_type": "code",
   "execution_count": 6,
   "id": "4cb99ded",
   "metadata": {},
   "outputs": [
    {
     "name": "stdout",
     "output_type": "stream",
     "text": [
      "<class 'pandas.core.frame.DataFrame'>\n",
      "RangeIndex: 8693 entries, 0 to 8692\n",
      "Data columns (total 14 columns):\n",
      " #   Column        Non-Null Count  Dtype  \n",
      "---  ------        --------------  -----  \n",
      " 0   PassengerId   8693 non-null   object \n",
      " 1   HomePlanet    8492 non-null   object \n",
      " 2   CryoSleep     8476 non-null   object \n",
      " 3   Cabin         8494 non-null   object \n",
      " 4   Destination   8511 non-null   object \n",
      " 5   Age           8514 non-null   float64\n",
      " 6   VIP           8490 non-null   object \n",
      " 7   RoomService   8512 non-null   float64\n",
      " 8   FoodCourt     8510 non-null   float64\n",
      " 9   ShoppingMall  8485 non-null   float64\n",
      " 10  Spa           8510 non-null   float64\n",
      " 11  VRDeck        8505 non-null   float64\n",
      " 12  Name          8493 non-null   object \n",
      " 13  Transported   8693 non-null   bool   \n",
      "dtypes: bool(1), float64(6), object(7)\n",
      "memory usage: 891.5+ KB\n"
     ]
    }
   ],
   "source": [
    "df_train.info()"
   ]
  },
  {
   "cell_type": "code",
   "execution_count": 8,
   "id": "ef760621",
   "metadata": {},
   "outputs": [],
   "source": [
    "X_train_num=df_train.drop(df_train.columns[[0,1,2,3,4,6,12,13]], axis=1)\n",
    "x_train_cat=df_train.drop(df_train.columns[[0,5,7,8,9,10,11,12,13]], axis=1)\n",
    "y_train_df=df_train[['Transported']]"
   ]
  },
  {
   "cell_type": "code",
   "execution_count": 9,
   "id": "d46f0279",
   "metadata": {},
   "outputs": [],
   "source": [
    " \n",
    "\n",
    "oe=OrdinalEncoder()\n",
    "\n",
    "X_transform_cat= oe.fit_transform(x_train_cat)\n",
    "\n"
   ]
  },
  {
   "cell_type": "code",
   "execution_count": 10,
   "id": "e26b9d2d",
   "metadata": {},
   "outputs": [],
   "source": [
    "imp_mean_num = SimpleImputer(missing_values=np.nan, strategy='mean')\n",
    "imp_mean_cat = SimpleImputer(missing_values=np.nan, strategy='most_frequent')"
   ]
  },
  {
   "cell_type": "code",
   "execution_count": 11,
   "id": "c3166388",
   "metadata": {},
   "outputs": [],
   "source": [
    "X_transform_num=imp_mean_num.fit_transform(X_train_num)"
   ]
  },
  {
   "cell_type": "code",
   "execution_count": 12,
   "id": "0ecf3191",
   "metadata": {},
   "outputs": [],
   "source": [
    "X_transform_cat=imp_mean_cat.fit_transform(x_train_cat)"
   ]
  },
  {
   "cell_type": "code",
   "execution_count": 13,
   "id": "aa30b5b7",
   "metadata": {},
   "outputs": [],
   "source": [
    "X_traintTransColumn_num=pd.DataFrame(X_transform_num,columns=X_train_num.columns)\n",
    "X_traintTransColumn_cat=pd.DataFrame(X_transform_cat,columns=oe.get_feature_names_out())"
   ]
  },
  {
   "cell_type": "code",
   "execution_count": 14,
   "id": "9ebc1d4a",
   "metadata": {},
   "outputs": [],
   "source": [
    "X_traint_concat=pd.concat([X_traintTransColumn_num,X_traintTransColumn_cat,y_train_df],axis=1)"
   ]
  },
  {
   "cell_type": "code",
   "execution_count": 15,
   "id": "ed65370d",
   "metadata": {},
   "outputs": [
    {
     "data": {
      "text/html": [
       "<div>\n",
       "<style scoped>\n",
       "    .dataframe tbody tr th:only-of-type {\n",
       "        vertical-align: middle;\n",
       "    }\n",
       "\n",
       "    .dataframe tbody tr th {\n",
       "        vertical-align: top;\n",
       "    }\n",
       "\n",
       "    .dataframe thead th {\n",
       "        text-align: right;\n",
       "    }\n",
       "</style>\n",
       "<table border=\"1\" class=\"dataframe\">\n",
       "  <thead>\n",
       "    <tr style=\"text-align: right;\">\n",
       "      <th></th>\n",
       "      <th>Age</th>\n",
       "      <th>RoomService</th>\n",
       "      <th>FoodCourt</th>\n",
       "      <th>ShoppingMall</th>\n",
       "      <th>Spa</th>\n",
       "      <th>VRDeck</th>\n",
       "      <th>HomePlanet</th>\n",
       "      <th>CryoSleep</th>\n",
       "      <th>Cabin</th>\n",
       "      <th>Destination</th>\n",
       "      <th>VIP</th>\n",
       "      <th>Transported</th>\n",
       "    </tr>\n",
       "  </thead>\n",
       "  <tbody>\n",
       "    <tr>\n",
       "      <th>0</th>\n",
       "      <td>39.0</td>\n",
       "      <td>0.0</td>\n",
       "      <td>0.0</td>\n",
       "      <td>0.0</td>\n",
       "      <td>0.0</td>\n",
       "      <td>0.0</td>\n",
       "      <td>Europa</td>\n",
       "      <td>False</td>\n",
       "      <td>B/0/P</td>\n",
       "      <td>TRAPPIST-1e</td>\n",
       "      <td>False</td>\n",
       "      <td>False</td>\n",
       "    </tr>\n",
       "    <tr>\n",
       "      <th>1</th>\n",
       "      <td>24.0</td>\n",
       "      <td>109.0</td>\n",
       "      <td>9.0</td>\n",
       "      <td>25.0</td>\n",
       "      <td>549.0</td>\n",
       "      <td>44.0</td>\n",
       "      <td>Earth</td>\n",
       "      <td>False</td>\n",
       "      <td>F/0/S</td>\n",
       "      <td>TRAPPIST-1e</td>\n",
       "      <td>False</td>\n",
       "      <td>True</td>\n",
       "    </tr>\n",
       "    <tr>\n",
       "      <th>2</th>\n",
       "      <td>58.0</td>\n",
       "      <td>43.0</td>\n",
       "      <td>3576.0</td>\n",
       "      <td>0.0</td>\n",
       "      <td>6715.0</td>\n",
       "      <td>49.0</td>\n",
       "      <td>Europa</td>\n",
       "      <td>False</td>\n",
       "      <td>A/0/S</td>\n",
       "      <td>TRAPPIST-1e</td>\n",
       "      <td>True</td>\n",
       "      <td>False</td>\n",
       "    </tr>\n",
       "    <tr>\n",
       "      <th>3</th>\n",
       "      <td>33.0</td>\n",
       "      <td>0.0</td>\n",
       "      <td>1283.0</td>\n",
       "      <td>371.0</td>\n",
       "      <td>3329.0</td>\n",
       "      <td>193.0</td>\n",
       "      <td>Europa</td>\n",
       "      <td>False</td>\n",
       "      <td>A/0/S</td>\n",
       "      <td>TRAPPIST-1e</td>\n",
       "      <td>False</td>\n",
       "      <td>False</td>\n",
       "    </tr>\n",
       "    <tr>\n",
       "      <th>4</th>\n",
       "      <td>16.0</td>\n",
       "      <td>303.0</td>\n",
       "      <td>70.0</td>\n",
       "      <td>151.0</td>\n",
       "      <td>565.0</td>\n",
       "      <td>2.0</td>\n",
       "      <td>Earth</td>\n",
       "      <td>False</td>\n",
       "      <td>F/1/S</td>\n",
       "      <td>TRAPPIST-1e</td>\n",
       "      <td>False</td>\n",
       "      <td>True</td>\n",
       "    </tr>\n",
       "    <tr>\n",
       "      <th>...</th>\n",
       "      <td>...</td>\n",
       "      <td>...</td>\n",
       "      <td>...</td>\n",
       "      <td>...</td>\n",
       "      <td>...</td>\n",
       "      <td>...</td>\n",
       "      <td>...</td>\n",
       "      <td>...</td>\n",
       "      <td>...</td>\n",
       "      <td>...</td>\n",
       "      <td>...</td>\n",
       "      <td>...</td>\n",
       "    </tr>\n",
       "    <tr>\n",
       "      <th>8688</th>\n",
       "      <td>41.0</td>\n",
       "      <td>0.0</td>\n",
       "      <td>6819.0</td>\n",
       "      <td>0.0</td>\n",
       "      <td>1643.0</td>\n",
       "      <td>74.0</td>\n",
       "      <td>Europa</td>\n",
       "      <td>False</td>\n",
       "      <td>A/98/P</td>\n",
       "      <td>55 Cancri e</td>\n",
       "      <td>True</td>\n",
       "      <td>False</td>\n",
       "    </tr>\n",
       "    <tr>\n",
       "      <th>8689</th>\n",
       "      <td>18.0</td>\n",
       "      <td>0.0</td>\n",
       "      <td>0.0</td>\n",
       "      <td>0.0</td>\n",
       "      <td>0.0</td>\n",
       "      <td>0.0</td>\n",
       "      <td>Earth</td>\n",
       "      <td>True</td>\n",
       "      <td>G/1499/S</td>\n",
       "      <td>PSO J318.5-22</td>\n",
       "      <td>False</td>\n",
       "      <td>False</td>\n",
       "    </tr>\n",
       "    <tr>\n",
       "      <th>8690</th>\n",
       "      <td>26.0</td>\n",
       "      <td>0.0</td>\n",
       "      <td>0.0</td>\n",
       "      <td>1872.0</td>\n",
       "      <td>1.0</td>\n",
       "      <td>0.0</td>\n",
       "      <td>Earth</td>\n",
       "      <td>False</td>\n",
       "      <td>G/1500/S</td>\n",
       "      <td>TRAPPIST-1e</td>\n",
       "      <td>False</td>\n",
       "      <td>True</td>\n",
       "    </tr>\n",
       "    <tr>\n",
       "      <th>8691</th>\n",
       "      <td>32.0</td>\n",
       "      <td>0.0</td>\n",
       "      <td>1049.0</td>\n",
       "      <td>0.0</td>\n",
       "      <td>353.0</td>\n",
       "      <td>3235.0</td>\n",
       "      <td>Europa</td>\n",
       "      <td>False</td>\n",
       "      <td>E/608/S</td>\n",
       "      <td>55 Cancri e</td>\n",
       "      <td>False</td>\n",
       "      <td>False</td>\n",
       "    </tr>\n",
       "    <tr>\n",
       "      <th>8692</th>\n",
       "      <td>44.0</td>\n",
       "      <td>126.0</td>\n",
       "      <td>4688.0</td>\n",
       "      <td>0.0</td>\n",
       "      <td>0.0</td>\n",
       "      <td>12.0</td>\n",
       "      <td>Europa</td>\n",
       "      <td>False</td>\n",
       "      <td>E/608/S</td>\n",
       "      <td>TRAPPIST-1e</td>\n",
       "      <td>False</td>\n",
       "      <td>True</td>\n",
       "    </tr>\n",
       "  </tbody>\n",
       "</table>\n",
       "<p>8693 rows × 12 columns</p>\n",
       "</div>"
      ],
      "text/plain": [
       "       Age  RoomService  FoodCourt  ShoppingMall     Spa  VRDeck HomePlanet  \\\n",
       "0     39.0          0.0        0.0           0.0     0.0     0.0     Europa   \n",
       "1     24.0        109.0        9.0          25.0   549.0    44.0      Earth   \n",
       "2     58.0         43.0     3576.0           0.0  6715.0    49.0     Europa   \n",
       "3     33.0          0.0     1283.0         371.0  3329.0   193.0     Europa   \n",
       "4     16.0        303.0       70.0         151.0   565.0     2.0      Earth   \n",
       "...    ...          ...        ...           ...     ...     ...        ...   \n",
       "8688  41.0          0.0     6819.0           0.0  1643.0    74.0     Europa   \n",
       "8689  18.0          0.0        0.0           0.0     0.0     0.0      Earth   \n",
       "8690  26.0          0.0        0.0        1872.0     1.0     0.0      Earth   \n",
       "8691  32.0          0.0     1049.0           0.0   353.0  3235.0     Europa   \n",
       "8692  44.0        126.0     4688.0           0.0     0.0    12.0     Europa   \n",
       "\n",
       "     CryoSleep     Cabin    Destination    VIP  Transported  \n",
       "0        False     B/0/P    TRAPPIST-1e  False        False  \n",
       "1        False     F/0/S    TRAPPIST-1e  False         True  \n",
       "2        False     A/0/S    TRAPPIST-1e   True        False  \n",
       "3        False     A/0/S    TRAPPIST-1e  False        False  \n",
       "4        False     F/1/S    TRAPPIST-1e  False         True  \n",
       "...        ...       ...            ...    ...          ...  \n",
       "8688     False    A/98/P    55 Cancri e   True        False  \n",
       "8689      True  G/1499/S  PSO J318.5-22  False        False  \n",
       "8690     False  G/1500/S    TRAPPIST-1e  False         True  \n",
       "8691     False   E/608/S    55 Cancri e  False        False  \n",
       "8692     False   E/608/S    TRAPPIST-1e  False         True  \n",
       "\n",
       "[8693 rows x 12 columns]"
      ]
     },
     "execution_count": 15,
     "metadata": {},
     "output_type": "execute_result"
    }
   ],
   "source": [
    "X_traint_concat"
   ]
  },
  {
   "cell_type": "code",
   "execution_count": 16,
   "id": "6d64682a",
   "metadata": {},
   "outputs": [
    {
     "data": {
      "text/plain": [
       "Age             0\n",
       "RoomService     0\n",
       "FoodCourt       0\n",
       "ShoppingMall    0\n",
       "Spa             0\n",
       "VRDeck          0\n",
       "HomePlanet      0\n",
       "CryoSleep       0\n",
       "Cabin           0\n",
       "Destination     0\n",
       "VIP             0\n",
       "Transported     0\n",
       "dtype: int64"
      ]
     },
     "execution_count": 16,
     "metadata": {},
     "output_type": "execute_result"
    }
   ],
   "source": [
    "X_traint_concat.isnull().sum()"
   ]
  },
  {
   "cell_type": "code",
   "execution_count": 17,
   "id": "cc3d3698",
   "metadata": {},
   "outputs": [],
   "source": [
    "datosSinDuplicados = X_traint_concat.drop_duplicates()"
   ]
  },
  {
   "cell_type": "code",
   "execution_count": 18,
   "id": "26c241d9",
   "metadata": {},
   "outputs": [
    {
     "name": "stdout",
     "output_type": "stream",
     "text": [
      "<class 'pandas.core.frame.DataFrame'>\n",
      "Int64Index: 8676 entries, 0 to 8692\n",
      "Data columns (total 12 columns):\n",
      " #   Column        Non-Null Count  Dtype  \n",
      "---  ------        --------------  -----  \n",
      " 0   Age           8676 non-null   float64\n",
      " 1   RoomService   8676 non-null   float64\n",
      " 2   FoodCourt     8676 non-null   float64\n",
      " 3   ShoppingMall  8676 non-null   float64\n",
      " 4   Spa           8676 non-null   float64\n",
      " 5   VRDeck        8676 non-null   float64\n",
      " 6   HomePlanet    8676 non-null   object \n",
      " 7   CryoSleep     8676 non-null   object \n",
      " 8   Cabin         8676 non-null   object \n",
      " 9   Destination   8676 non-null   object \n",
      " 10  VIP           8676 non-null   object \n",
      " 11  Transported   8676 non-null   bool   \n",
      "dtypes: bool(1), float64(6), object(5)\n",
      "memory usage: 821.8+ KB\n"
     ]
    }
   ],
   "source": [
    "datosSinDuplicados.info()"
   ]
  },
  {
   "cell_type": "code",
   "execution_count": 19,
   "id": "08a0306c",
   "metadata": {},
   "outputs": [],
   "source": [
    "oe=OrdinalEncoder()\n",
    "os =RandomOverSampler()\n",
    "X_train_df = datosSinDuplicados.drop( 'Transported', axis=1)\n",
    "y_train_df = datosSinDuplicados['Transported']\n"
   ]
  },
  {
   "cell_type": "code",
   "execution_count": 20,
   "id": "40e6072e",
   "metadata": {},
   "outputs": [],
   "source": [
    "\n",
    "Xov,yov= os.fit_resample(X_train_df, y_train_df)\n",
    "X_trans = oe.fit_transform(X_train_df)"
   ]
  },
  {
   "cell_type": "code",
   "execution_count": 21,
   "id": "eed8847b",
   "metadata": {},
   "outputs": [],
   "source": [
    "#dividir el dataset\n",
    "X_train, X_test, y_train, y_test = train_test_split(X_trans, y_train_df, test_size=0.3, random_state=1)"
   ]
  },
  {
   "cell_type": "code",
   "execution_count": 24,
   "id": "989a0448",
   "metadata": {},
   "outputs": [
    {
     "data": {
      "text/plain": [
       "0.7788921866646458"
      ]
     },
     "execution_count": 24,
     "metadata": {},
     "output_type": "execute_result"
    }
   ],
   "source": [
    "decision_tree_model = DecisionTreeClassifier(max_depth=7).fit(X_train, y_train)\n",
    "y_pred = decision_tree_model.predict(X_test)\n",
    "\n",
    "f1_score1 = f1_score(y_test , y_pred, average='macro')\n",
    "f1_score1"
   ]
  },
  {
   "cell_type": "code",
   "execution_count": 23,
   "id": "7f4c48fb",
   "metadata": {},
   "outputs": [
    {
     "name": "stdout",
     "output_type": "stream",
     "text": [
      "( 0.7623949668137844, 0.011777538547747601\n"
     ]
    }
   ],
   "source": [
    "kFold = model_selection.KFold(n_splits=5)\n",
    "scoring = 'accuracy'\n",
    "puntaje= (model_selection.cross_val_score(decision_tree_model, X_train, y_train,  scoring = scoring, cv = kFold))\n",
    "print (f\"( {puntaje.mean()}, {puntaje.std()}\")"
   ]
  },
  {
   "cell_type": "code",
   "execution_count": null,
   "id": "703afe20",
   "metadata": {},
   "outputs": [],
   "source": []
  },
  {
   "cell_type": "code",
   "execution_count": null,
   "id": "a4212d88",
   "metadata": {},
   "outputs": [],
   "source": []
  }
 ],
 "metadata": {
  "kernelspec": {
   "display_name": "Python 3 (ipykernel)",
   "language": "python",
   "name": "python3"
  },
  "language_info": {
   "codemirror_mode": {
    "name": "ipython",
    "version": 3
   },
   "file_extension": ".py",
   "mimetype": "text/x-python",
   "name": "python",
   "nbconvert_exporter": "python",
   "pygments_lexer": "ipython3",
   "version": "3.10.4"
  }
 },
 "nbformat": 4,
 "nbformat_minor": 5
}
