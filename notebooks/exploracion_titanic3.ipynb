{
 "cells": [
  {
   "cell_type": "code",
   "execution_count": 1,
   "id": "b054fc10",
   "metadata": {},
   "outputs": [],
   "source": [
    "import pandas as pd\n",
    "from pathlib import Path\n",
    "import matplotlib.pyplot as plt\n",
    "from plotly import express as px\n",
    "from sklearn.model_selection import GridSearchCV, train_test_split\n",
    "from sklearn.tree import DecisionTreeClassifier\n",
    "from sklearn import datasets, metrics, neighbors, preprocessing, tree\n",
    "from imblearn.combine import SMOTEENN\n",
    "from imblearn.over_sampling import SMOTE, RandomOverSampler\n",
    "from sklearn.metrics import (accuracy_score, f1_score, precision_score,make_scorer,\n",
    "                             r2_score, recall_score, confusion_matrix)\n",
    "from sklearn.model_selection import cross_validate\n",
    "from collections import Counter\n",
    "from sklearn.preprocessing import OrdinalEncoder\n",
    "from sklearn.model_selection import GridSearchCV\n",
    "from sklearn import model_selection\n",
    "from sklearn.impute import SimpleImputer\n",
    "import numpy as np"
   ]
  },
  {
   "cell_type": "code",
   "execution_count": 2,
   "id": "67de4d24",
   "metadata": {},
   "outputs": [],
   "source": [
    "class Paths:\n",
    "    data_path=Path(r'../data').resolve().absolute()\n",
    "    data_raw=data_path.joinpath(r'01_raw')\n",
    "    path_train=data_raw.joinpath(r'train.csv')\n",
    "    path_test = data_raw.joinpath(r'test.csv')"
   ]
  },
  {
   "cell_type": "code",
   "execution_count": 3,
   "id": "686bc790",
   "metadata": {},
   "outputs": [],
   "source": [
    "df_test = pd.read_csv(Paths.path_test,decimal='.')\n",
    "df_train = pd.read_csv(Paths.path_train , decimal='.')"
   ]
  },
  {
   "cell_type": "code",
   "execution_count": 4,
   "id": "2a57b35e",
   "metadata": {},
   "outputs": [
    {
     "data": {
      "text/html": [
       "<div>\n",
       "<style scoped>\n",
       "    .dataframe tbody tr th:only-of-type {\n",
       "        vertical-align: middle;\n",
       "    }\n",
       "\n",
       "    .dataframe tbody tr th {\n",
       "        vertical-align: top;\n",
       "    }\n",
       "\n",
       "    .dataframe thead th {\n",
       "        text-align: right;\n",
       "    }\n",
       "</style>\n",
       "<table border=\"1\" class=\"dataframe\">\n",
       "  <thead>\n",
       "    <tr style=\"text-align: right;\">\n",
       "      <th></th>\n",
       "      <th>PassengerId</th>\n",
       "      <th>HomePlanet</th>\n",
       "      <th>CryoSleep</th>\n",
       "      <th>Cabin</th>\n",
       "      <th>Destination</th>\n",
       "      <th>Age</th>\n",
       "      <th>VIP</th>\n",
       "      <th>RoomService</th>\n",
       "      <th>FoodCourt</th>\n",
       "      <th>ShoppingMall</th>\n",
       "      <th>Spa</th>\n",
       "      <th>VRDeck</th>\n",
       "      <th>Name</th>\n",
       "      <th>Transported</th>\n",
       "    </tr>\n",
       "  </thead>\n",
       "  <tbody>\n",
       "    <tr>\n",
       "      <th>0</th>\n",
       "      <td>0001_01</td>\n",
       "      <td>Europa</td>\n",
       "      <td>False</td>\n",
       "      <td>B/0/P</td>\n",
       "      <td>TRAPPIST-1e</td>\n",
       "      <td>39.0</td>\n",
       "      <td>False</td>\n",
       "      <td>0.0</td>\n",
       "      <td>0.0</td>\n",
       "      <td>0.0</td>\n",
       "      <td>0.0</td>\n",
       "      <td>0.0</td>\n",
       "      <td>Maham Ofracculy</td>\n",
       "      <td>False</td>\n",
       "    </tr>\n",
       "    <tr>\n",
       "      <th>1</th>\n",
       "      <td>0002_01</td>\n",
       "      <td>Earth</td>\n",
       "      <td>False</td>\n",
       "      <td>F/0/S</td>\n",
       "      <td>TRAPPIST-1e</td>\n",
       "      <td>24.0</td>\n",
       "      <td>False</td>\n",
       "      <td>109.0</td>\n",
       "      <td>9.0</td>\n",
       "      <td>25.0</td>\n",
       "      <td>549.0</td>\n",
       "      <td>44.0</td>\n",
       "      <td>Juanna Vines</td>\n",
       "      <td>True</td>\n",
       "    </tr>\n",
       "    <tr>\n",
       "      <th>2</th>\n",
       "      <td>0003_01</td>\n",
       "      <td>Europa</td>\n",
       "      <td>False</td>\n",
       "      <td>A/0/S</td>\n",
       "      <td>TRAPPIST-1e</td>\n",
       "      <td>58.0</td>\n",
       "      <td>True</td>\n",
       "      <td>43.0</td>\n",
       "      <td>3576.0</td>\n",
       "      <td>0.0</td>\n",
       "      <td>6715.0</td>\n",
       "      <td>49.0</td>\n",
       "      <td>Altark Susent</td>\n",
       "      <td>False</td>\n",
       "    </tr>\n",
       "    <tr>\n",
       "      <th>3</th>\n",
       "      <td>0003_02</td>\n",
       "      <td>Europa</td>\n",
       "      <td>False</td>\n",
       "      <td>A/0/S</td>\n",
       "      <td>TRAPPIST-1e</td>\n",
       "      <td>33.0</td>\n",
       "      <td>False</td>\n",
       "      <td>0.0</td>\n",
       "      <td>1283.0</td>\n",
       "      <td>371.0</td>\n",
       "      <td>3329.0</td>\n",
       "      <td>193.0</td>\n",
       "      <td>Solam Susent</td>\n",
       "      <td>False</td>\n",
       "    </tr>\n",
       "    <tr>\n",
       "      <th>4</th>\n",
       "      <td>0004_01</td>\n",
       "      <td>Earth</td>\n",
       "      <td>False</td>\n",
       "      <td>F/1/S</td>\n",
       "      <td>TRAPPIST-1e</td>\n",
       "      <td>16.0</td>\n",
       "      <td>False</td>\n",
       "      <td>303.0</td>\n",
       "      <td>70.0</td>\n",
       "      <td>151.0</td>\n",
       "      <td>565.0</td>\n",
       "      <td>2.0</td>\n",
       "      <td>Willy Santantines</td>\n",
       "      <td>True</td>\n",
       "    </tr>\n",
       "    <tr>\n",
       "      <th>...</th>\n",
       "      <td>...</td>\n",
       "      <td>...</td>\n",
       "      <td>...</td>\n",
       "      <td>...</td>\n",
       "      <td>...</td>\n",
       "      <td>...</td>\n",
       "      <td>...</td>\n",
       "      <td>...</td>\n",
       "      <td>...</td>\n",
       "      <td>...</td>\n",
       "      <td>...</td>\n",
       "      <td>...</td>\n",
       "      <td>...</td>\n",
       "      <td>...</td>\n",
       "    </tr>\n",
       "    <tr>\n",
       "      <th>8688</th>\n",
       "      <td>9276_01</td>\n",
       "      <td>Europa</td>\n",
       "      <td>False</td>\n",
       "      <td>A/98/P</td>\n",
       "      <td>55 Cancri e</td>\n",
       "      <td>41.0</td>\n",
       "      <td>True</td>\n",
       "      <td>0.0</td>\n",
       "      <td>6819.0</td>\n",
       "      <td>0.0</td>\n",
       "      <td>1643.0</td>\n",
       "      <td>74.0</td>\n",
       "      <td>Gravior Noxnuther</td>\n",
       "      <td>False</td>\n",
       "    </tr>\n",
       "    <tr>\n",
       "      <th>8689</th>\n",
       "      <td>9278_01</td>\n",
       "      <td>Earth</td>\n",
       "      <td>True</td>\n",
       "      <td>G/1499/S</td>\n",
       "      <td>PSO J318.5-22</td>\n",
       "      <td>18.0</td>\n",
       "      <td>False</td>\n",
       "      <td>0.0</td>\n",
       "      <td>0.0</td>\n",
       "      <td>0.0</td>\n",
       "      <td>0.0</td>\n",
       "      <td>0.0</td>\n",
       "      <td>Kurta Mondalley</td>\n",
       "      <td>False</td>\n",
       "    </tr>\n",
       "    <tr>\n",
       "      <th>8690</th>\n",
       "      <td>9279_01</td>\n",
       "      <td>Earth</td>\n",
       "      <td>False</td>\n",
       "      <td>G/1500/S</td>\n",
       "      <td>TRAPPIST-1e</td>\n",
       "      <td>26.0</td>\n",
       "      <td>False</td>\n",
       "      <td>0.0</td>\n",
       "      <td>0.0</td>\n",
       "      <td>1872.0</td>\n",
       "      <td>1.0</td>\n",
       "      <td>0.0</td>\n",
       "      <td>Fayey Connon</td>\n",
       "      <td>True</td>\n",
       "    </tr>\n",
       "    <tr>\n",
       "      <th>8691</th>\n",
       "      <td>9280_01</td>\n",
       "      <td>Europa</td>\n",
       "      <td>False</td>\n",
       "      <td>E/608/S</td>\n",
       "      <td>55 Cancri e</td>\n",
       "      <td>32.0</td>\n",
       "      <td>False</td>\n",
       "      <td>0.0</td>\n",
       "      <td>1049.0</td>\n",
       "      <td>0.0</td>\n",
       "      <td>353.0</td>\n",
       "      <td>3235.0</td>\n",
       "      <td>Celeon Hontichre</td>\n",
       "      <td>False</td>\n",
       "    </tr>\n",
       "    <tr>\n",
       "      <th>8692</th>\n",
       "      <td>9280_02</td>\n",
       "      <td>Europa</td>\n",
       "      <td>False</td>\n",
       "      <td>E/608/S</td>\n",
       "      <td>TRAPPIST-1e</td>\n",
       "      <td>44.0</td>\n",
       "      <td>False</td>\n",
       "      <td>126.0</td>\n",
       "      <td>4688.0</td>\n",
       "      <td>0.0</td>\n",
       "      <td>0.0</td>\n",
       "      <td>12.0</td>\n",
       "      <td>Propsh Hontichre</td>\n",
       "      <td>True</td>\n",
       "    </tr>\n",
       "  </tbody>\n",
       "</table>\n",
       "<p>8693 rows × 14 columns</p>\n",
       "</div>"
      ],
      "text/plain": [
       "     PassengerId HomePlanet CryoSleep     Cabin    Destination   Age    VIP  \\\n",
       "0        0001_01     Europa     False     B/0/P    TRAPPIST-1e  39.0  False   \n",
       "1        0002_01      Earth     False     F/0/S    TRAPPIST-1e  24.0  False   \n",
       "2        0003_01     Europa     False     A/0/S    TRAPPIST-1e  58.0   True   \n",
       "3        0003_02     Europa     False     A/0/S    TRAPPIST-1e  33.0  False   \n",
       "4        0004_01      Earth     False     F/1/S    TRAPPIST-1e  16.0  False   \n",
       "...          ...        ...       ...       ...            ...   ...    ...   \n",
       "8688     9276_01     Europa     False    A/98/P    55 Cancri e  41.0   True   \n",
       "8689     9278_01      Earth      True  G/1499/S  PSO J318.5-22  18.0  False   \n",
       "8690     9279_01      Earth     False  G/1500/S    TRAPPIST-1e  26.0  False   \n",
       "8691     9280_01     Europa     False   E/608/S    55 Cancri e  32.0  False   \n",
       "8692     9280_02     Europa     False   E/608/S    TRAPPIST-1e  44.0  False   \n",
       "\n",
       "      RoomService  FoodCourt  ShoppingMall     Spa  VRDeck               Name  \\\n",
       "0             0.0        0.0           0.0     0.0     0.0    Maham Ofracculy   \n",
       "1           109.0        9.0          25.0   549.0    44.0       Juanna Vines   \n",
       "2            43.0     3576.0           0.0  6715.0    49.0      Altark Susent   \n",
       "3             0.0     1283.0         371.0  3329.0   193.0       Solam Susent   \n",
       "4           303.0       70.0         151.0   565.0     2.0  Willy Santantines   \n",
       "...           ...        ...           ...     ...     ...                ...   \n",
       "8688          0.0     6819.0           0.0  1643.0    74.0  Gravior Noxnuther   \n",
       "8689          0.0        0.0           0.0     0.0     0.0    Kurta Mondalley   \n",
       "8690          0.0        0.0        1872.0     1.0     0.0       Fayey Connon   \n",
       "8691          0.0     1049.0           0.0   353.0  3235.0   Celeon Hontichre   \n",
       "8692        126.0     4688.0           0.0     0.0    12.0   Propsh Hontichre   \n",
       "\n",
       "      Transported  \n",
       "0           False  \n",
       "1            True  \n",
       "2           False  \n",
       "3           False  \n",
       "4            True  \n",
       "...           ...  \n",
       "8688        False  \n",
       "8689        False  \n",
       "8690         True  \n",
       "8691        False  \n",
       "8692         True  \n",
       "\n",
       "[8693 rows x 14 columns]"
      ]
     },
     "execution_count": 4,
     "metadata": {},
     "output_type": "execute_result"
    }
   ],
   "source": [
    "df_train"
   ]
  },
  {
   "cell_type": "code",
   "execution_count": 5,
   "id": "a7f91934",
   "metadata": {},
   "outputs": [],
   "source": [
    "data_limpia = df_train.drop(['Name','PassengerId'], axis=1)\n",
    "data_limTest = df_test.drop('Name', axis=1)"
   ]
  },
  {
   "cell_type": "code",
   "execution_count": 6,
   "id": "7a9dff94",
   "metadata": {},
   "outputs": [],
   "source": [
    "datosSinDuplicados = data_limpia.drop_duplicates()"
   ]
  },
  {
   "cell_type": "code",
   "execution_count": 35,
   "id": "e5616225",
   "metadata": {},
   "outputs": [
    {
     "name": "stdout",
     "output_type": "stream",
     "text": [
      "<class 'pandas.core.frame.DataFrame'>\n",
      "RangeIndex: 4277 entries, 0 to 4276\n",
      "Data columns (total 12 columns):\n",
      " #   Column        Non-Null Count  Dtype  \n",
      "---  ------        --------------  -----  \n",
      " 0   PassengerId   4277 non-null   object \n",
      " 1   HomePlanet    4190 non-null   object \n",
      " 2   CryoSleep     4184 non-null   object \n",
      " 3   Cabin         4177 non-null   object \n",
      " 4   Destination   4185 non-null   object \n",
      " 5   Age           4186 non-null   float64\n",
      " 6   VIP           4184 non-null   object \n",
      " 7   RoomService   4195 non-null   float64\n",
      " 8   FoodCourt     4171 non-null   float64\n",
      " 9   ShoppingMall  4179 non-null   float64\n",
      " 10  Spa           4176 non-null   float64\n",
      " 11  VRDeck        4197 non-null   float64\n",
      "dtypes: float64(6), object(6)\n",
      "memory usage: 401.1+ KB\n"
     ]
    }
   ],
   "source": [
    "data_limTest.info()"
   ]
  },
  {
   "cell_type": "code",
   "execution_count": 36,
   "id": "c5d90020",
   "metadata": {},
   "outputs": [],
   "source": [
    "X_train_num=datosSinDuplicados.drop(datosSinDuplicados.columns[[0,1,2,3,5,11]], axis=1)\n",
    "x_train_cat=datosSinDuplicados.drop(datosSinDuplicados.columns[[4,6,7,8,9,10]], axis=1)\n",
    "\n",
    "X_test_num = data_limTest.drop(data_limTest.columns[[0, 1, 2, 3,4, 6]], axis=1)\n",
    "x_test_cat = data_limTest.drop(data_limTest.columns[[5, 7, 8, 9, 10]], axis=1)"
   ]
  },
  {
   "cell_type": "code",
   "execution_count": 37,
   "id": "bfeea300",
   "metadata": {},
   "outputs": [],
   "source": [
    "imp_mean_num = SimpleImputer(missing_values=np.nan, strategy='mean')\n",
    "imp_mean_cat = SimpleImputer(missing_values=np.nan, strategy='most_frequent')\n",
    "\n",
    "X_transform_num_test = imp_mean_num.fit_transform(X_test_num)\n",
    "X_transform_cat_test = imp_mean_cat.fit_transform(x_test_cat)"
   ]
  },
  {
   "cell_type": "code",
   "execution_count": 18,
   "id": "df5e3edf",
   "metadata": {},
   "outputs": [],
   "source": [
    "X_transform_num=imp_mean_num.fit_transform(X_train_num)\n",
    "X_transform_cat=imp_mean_cat.fit_transform(x_train_cat)"
   ]
  },
  {
   "cell_type": "code",
   "execution_count": 19,
   "id": "ab63a1e6",
   "metadata": {},
   "outputs": [],
   "source": [
    "X_traintTransColumn_num=pd.DataFrame(X_transform_num,columns=X_train_num.columns)\n",
    "X_traintTransColumn_cat=pd.DataFrame(X_transform_cat,columns=x_train_cat.columns)"
   ]
  },
  {
   "cell_type": "code",
   "execution_count": 20,
   "id": "b031274a",
   "metadata": {},
   "outputs": [],
   "source": [
    "X_traint_concat=pd.concat([X_traintTransColumn_num,X_traintTransColumn_cat],axis=1)"
   ]
  },
  {
   "cell_type": "code",
   "execution_count": 21,
   "id": "a3aade3d",
   "metadata": {},
   "outputs": [
    {
     "name": "stdout",
     "output_type": "stream",
     "text": [
      "<class 'pandas.core.frame.DataFrame'>\n",
      "RangeIndex: 8678 entries, 0 to 8677\n",
      "Data columns (total 12 columns):\n",
      " #   Column        Non-Null Count  Dtype  \n",
      "---  ------        --------------  -----  \n",
      " 0   Age           8678 non-null   float64\n",
      " 1   RoomService   8678 non-null   float64\n",
      " 2   FoodCourt     8678 non-null   float64\n",
      " 3   ShoppingMall  8678 non-null   float64\n",
      " 4   Spa           8678 non-null   float64\n",
      " 5   VRDeck        8678 non-null   float64\n",
      " 6   HomePlanet    8678 non-null   object \n",
      " 7   CryoSleep     8678 non-null   object \n",
      " 8   Cabin         8678 non-null   object \n",
      " 9   Destination   8678 non-null   object \n",
      " 10  VIP           8678 non-null   object \n",
      " 11  Transported   8678 non-null   object \n",
      "dtypes: float64(6), object(6)\n",
      "memory usage: 813.7+ KB\n"
     ]
    }
   ],
   "source": [
    "X_traint_concat.info()"
   ]
  },
  {
   "cell_type": "code",
   "execution_count": 22,
   "id": "b6dac642",
   "metadata": {},
   "outputs": [],
   "source": [
    "X_traint_concat['Transported'] =X_traint_concat['Transported'] .astype('bool')"
   ]
  },
  {
   "cell_type": "code",
   "execution_count": 23,
   "id": "231b8699",
   "metadata": {},
   "outputs": [
    {
     "name": "stdout",
     "output_type": "stream",
     "text": [
      "<class 'pandas.core.frame.DataFrame'>\n",
      "RangeIndex: 8678 entries, 0 to 8677\n",
      "Data columns (total 12 columns):\n",
      " #   Column        Non-Null Count  Dtype  \n",
      "---  ------        --------------  -----  \n",
      " 0   Age           8678 non-null   float64\n",
      " 1   RoomService   8678 non-null   float64\n",
      " 2   FoodCourt     8678 non-null   float64\n",
      " 3   ShoppingMall  8678 non-null   float64\n",
      " 4   Spa           8678 non-null   float64\n",
      " 5   VRDeck        8678 non-null   float64\n",
      " 6   HomePlanet    8678 non-null   object \n",
      " 7   CryoSleep     8678 non-null   object \n",
      " 8   Cabin         8678 non-null   object \n",
      " 9   Destination   8678 non-null   object \n",
      " 10  VIP           8678 non-null   object \n",
      " 11  Transported   8678 non-null   bool   \n",
      "dtypes: bool(1), float64(6), object(5)\n",
      "memory usage: 754.4+ KB\n"
     ]
    }
   ],
   "source": [
    "X_traint_concat.info()"
   ]
  },
  {
   "cell_type": "code",
   "execution_count": 24,
   "id": "b0759df5",
   "metadata": {},
   "outputs": [],
   "source": [
    "datosSinDuplicadosTrain = X_traint_concat.drop_duplicates()"
   ]
  },
  {
   "cell_type": "code",
   "execution_count": 25,
   "id": "b156fbe7",
   "metadata": {},
   "outputs": [
    {
     "name": "stdout",
     "output_type": "stream",
     "text": [
      "<class 'pandas.core.frame.DataFrame'>\n",
      "Int64Index: 8676 entries, 0 to 8677\n",
      "Data columns (total 12 columns):\n",
      " #   Column        Non-Null Count  Dtype  \n",
      "---  ------        --------------  -----  \n",
      " 0   Age           8676 non-null   float64\n",
      " 1   RoomService   8676 non-null   float64\n",
      " 2   FoodCourt     8676 non-null   float64\n",
      " 3   ShoppingMall  8676 non-null   float64\n",
      " 4   Spa           8676 non-null   float64\n",
      " 5   VRDeck        8676 non-null   float64\n",
      " 6   HomePlanet    8676 non-null   object \n",
      " 7   CryoSleep     8676 non-null   object \n",
      " 8   Cabin         8676 non-null   object \n",
      " 9   Destination   8676 non-null   object \n",
      " 10  VIP           8676 non-null   object \n",
      " 11  Transported   8676 non-null   bool   \n",
      "dtypes: bool(1), float64(6), object(5)\n",
      "memory usage: 821.8+ KB\n"
     ]
    }
   ],
   "source": [
    "datosSinDuplicadosTrain.info()"
   ]
  },
  {
   "cell_type": "code",
   "execution_count": 26,
   "id": "7364ff8f",
   "metadata": {},
   "outputs": [],
   "source": [
    "oe=OrdinalEncoder()\n",
    "os =RandomOverSampler()\n",
    "X_train_df = datosSinDuplicadosTrain.drop( 'Transported', axis=1)\n",
    "y_train_df = datosSinDuplicadosTrain['Transported']"
   ]
  },
  {
   "cell_type": "code",
   "execution_count": 27,
   "id": "4b88aae4",
   "metadata": {},
   "outputs": [],
   "source": [
    "\n",
    "Xov,yov= os.fit_resample(X_train_df, y_train_df)\n",
    "X_trans = oe.fit_transform(X_train_df)"
   ]
  },
  {
   "cell_type": "code",
   "execution_count": 28,
   "id": "f73d6910",
   "metadata": {},
   "outputs": [],
   "source": [
    "X_train, X_test, y_train, y_test = train_test_split(X_trans, y_train_df, test_size=0.3, random_state=1)"
   ]
  },
  {
   "cell_type": "code",
   "execution_count": 31,
   "id": "837ff71c",
   "metadata": {},
   "outputs": [
    {
     "data": {
      "text/plain": [
       "0.7785128537848732"
      ]
     },
     "execution_count": 31,
     "metadata": {},
     "output_type": "execute_result"
    }
   ],
   "source": [
    "decision_tree_model = DecisionTreeClassifier(max_depth=7).fit(X_train, y_train)\n",
    "y_pred = decision_tree_model.predict(X_test)\n",
    "\n",
    "f1_score1 = f1_score(y_test , y_pred, average='macro')\n",
    "f1_score1"
   ]
  },
  {
   "cell_type": "code",
   "execution_count": 30,
   "id": "1fa68c1c",
   "metadata": {},
   "outputs": [
    {
     "name": "stdout",
     "output_type": "stream",
     "text": [
      "( 0.7678227498093059, 0.011725283288210778\n"
     ]
    }
   ],
   "source": [
    "kFold = model_selection.KFold(n_splits=8)\n",
    "scoring = 'accuracy'\n",
    "puntaje= (model_selection.cross_val_score(decision_tree_model, X_train, y_train,  scoring = scoring, cv = kFold))\n",
    "print (f\"( {puntaje.mean()}, {puntaje.std()}\")"
   ]
  },
  {
   "cell_type": "code",
   "execution_count": null,
   "id": "0907d580",
   "metadata": {},
   "outputs": [],
   "source": []
  }
 ],
 "metadata": {
  "kernelspec": {
   "display_name": "Python 3 (ipykernel)",
   "language": "python",
   "name": "python3"
  },
  "language_info": {
   "codemirror_mode": {
    "name": "ipython",
    "version": 3
   },
   "file_extension": ".py",
   "mimetype": "text/x-python",
   "name": "python",
   "nbconvert_exporter": "python",
   "pygments_lexer": "ipython3",
   "version": "3.10.4"
  }
 },
 "nbformat": 4,
 "nbformat_minor": 5
}
